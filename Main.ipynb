{
 "cells": [
  {
   "cell_type": "code",
   "execution_count": null,
   "id": "8c10faa3",
   "metadata": {},
   "outputs": [],
   "source": [
    "!pip3 install websockets pandas ta python-binance python-dotenv"
   ]
  },
  {
   "cell_type": "code",
   "execution_count": 2,
   "id": "76c3a1fd",
   "metadata": {},
   "outputs": [],
   "source": [
    "import websockets\n",
    "import json\n",
    "import pandas as pd\n",
    "import asyncio\n",
    "import ta\n",
    "import os\n",
    "from binance.client import Client\n",
    "from binance.exceptions import BinanceAPIException\n",
    "\n",
    "from dotenv import load_dotenv\n",
    "load_dotenv()  # take environment variables from .env.\n",
    "\n",
    "\n",
    "\n",
    "api_key = os.environ['api_key']\n",
    "api_secret = os.environ['api_secret']\n",
    "quantity = os.environ['quantity']\n",
    "roc_num_records = int(os.environ['roc_num_records'])\n",
    "symbol = os.environ['symbol']\n",
    "trailing_coefficient = float(os.environ['trailing_coefficient'])\n",
    "rise_percentage = float(os.environ['rise_percentage'])\n",
    "\n",
    "\n",
    "#PROD\n",
    "stream = websockets.connect(f\"wss://stream.binance.com:9443/stream?streams={symbol.lower()}@miniTicker\")\n",
    "\n",
    "#TEST\n",
    "#stream = websockets.connect('wss://testnet.binance.vision/stream?streams=adausdt@miniTicker')"
   ]
  },
  {
   "cell_type": "code",
   "execution_count": 3,
   "id": "415eca99",
   "metadata": {},
   "outputs": [],
   "source": [
    "# Functions\n",
    "def createframe(msg):\n",
    "  df = pd.DataFrame([msg])\n",
    "  df = df.loc[:,['s', 'E', 'c']]\n",
    "  df.columns = ['symbol', 'Time', 'Price']\n",
    "  df.Price = df.Price.astype('float')\n",
    "  df.Time = pd.to_datetime(df.Time, unit='ms')\n",
    "  return df\n",
    "\n",
    "# Variables\n",
    "client = Client(api_key, api_secret)\n",
    "df = pd.DataFrame()\n",
    "open_position = False\n",
    "dfOrders = pd.DataFrame()\n"
   ]
  },
  {
   "cell_type": "code",
   "execution_count": 4,
   "id": "64543903",
   "metadata": {},
   "outputs": [],
   "source": [
    "  # TODO check quantity >= minQty, if not sto execution\n",
    "  symbolinfo = client.get_symbol_info(symbol)"
   ]
  },
  {
   "cell_type": "code",
   "execution_count": 7,
   "id": "f3842548",
   "metadata": {},
   "outputs": [],
   "source": [
    "def create_order(symbol, side, type, quantity):\n",
    "    try:\n",
    "        order = client.create_order(symbol=symbol, side=side, type=type, quantity=quantity)\n",
    "    except BinanceAPIException as e:\n",
    "        print(f\"an error occurred while creating {side} order\")\n",
    "        print(e)\n",
    "    else:\n",
    "        print(\"order created succesfully\")\n",
    "        return order\n",
    "\n",
    "def create_buy_order(symbol, quantity):\n",
    "    return create_order(symbol, side=Client.SIDE_BUY, type=Client.ORDER_TYPE_MARKET, quantity=quantity)\n",
    "\n",
    "def create_sell_order(symbol, quantity):\n",
    "    return create_order(symbol, side=Client.SIDE_SELL, type=Client.ORDER_TYPE_MARKET, quantity=quantity)"
   ]
  },
  {
   "cell_type": "code",
   "execution_count": 8,
   "id": "8927812b",
   "metadata": {},
   "outputs": [
    {
     "name": "stdout",
     "output_type": "stream",
     "text": [
      "Min qty for ADABUSD is 0.10000000\n",
      "Starting trailing strategy for symbol 0.5 of ADABUSD\n"
     ]
    }
   ],
   "source": [
    "# TODO make quantity, symbol, roc test rows umber, trailing stop coefficient dynamic\n",
    "async with stream as receiver: \n",
    "  print(f\"Min qty for {symbol} is {symbolinfo['filters'][2]['minQty']}\")\n",
    "  print(f\"Starting trailing strategy for symbol {quantity} of {symbol}\")\n",
    "  while True:\n",
    "    data = await receiver.recv()\n",
    "    data = json.loads(data)['data']\n",
    "    df = df.append(createframe(data))\n",
    "    \n",
    "    if len(df) > 30:\n",
    "      # If not open position then calculate ROC with roc_num_records records\n",
    "      if not open_position:\n",
    "        # TODO understand second condition... place buy order, \n",
    "        # save buyprice for later use        \n",
    "        roc = ta.momentum.roc(df.Price, roc_num_records).iloc[-1]\n",
    "        #print(f\"The actual ROC is {roc}\")\n",
    "        if roc > 0 and ta.momentum.roc(df.Price, roc_num_records).iloc[-2]:\n",
    "          print(f\"ROC = {roc}\")\n",
    "          order = create_buy_order(symbol=symbol, quantity=quantity)\n",
    "          dfOrders.append(pd.DataFrame([order,'BUY'], columns=['ORDER', 'TYPE']))\n",
    "          print(dfOrders)\n",
    "          open_position = True\n",
    "          buyprice = float(order['fills'][0]['price'])\n",
    "\n",
    "      if open_position:\n",
    "        subdf = df[df.Time >= pd.to_datetime(\n",
    "            order['transactTime'], unit='ms')]\n",
    "        if len(subdf) > 1:\n",
    "\n",
    "          #Use cummax function to calculate highest price\n",
    "          subdf['highest'] = subdf.Price.cummax()\n",
    "\n",
    "          # Setting trailing stop\n",
    "          # TODO make trailing coefficient variable\n",
    "          subdf['trailingstop'] = subdf['highest'] * trailing_coefficient\n",
    "\n",
    "          # If any of these 2 condition is true i want to place a SELL ORDER\n",
    "          # If the asset is rising 0.02%\n",
    "          if subdf.iloc[-1].Price < subdf.iloc[-1].trailingstop or df.iloc[-1].Price / float(order['fills'][0]['price']) > rise_percentage:\n",
    "            order = create_sell_order(symbol=symbol, quantity=quantity)\n",
    "            dfOrders.append(pd.DataFrame([order,'SELL'], columns=['ORDER', 'TYPE']))\n",
    "            print(dfOrders)\n",
    "\n",
    "            sellprice = float(order['fills'][0]['price'])\n",
    "            print(f\"You made {(sellprice - buyprice)/2} profit\")\n",
    "            open_position = False\n",
    "\n",
    "    #print(df.iloc[-1])\n"
   ]
  },
  {
   "cell_type": "code",
   "execution_count": null,
   "id": "947ac601",
   "metadata": {},
   "outputs": [],
   "source": []
  }
 ],
 "metadata": {
  "kernelspec": {
   "display_name": "Python 3 (ipykernel)",
   "language": "python",
   "name": "python3"
  },
  "language_info": {
   "codemirror_mode": {
    "name": "ipython",
    "version": 3
   },
   "file_extension": ".py",
   "mimetype": "text/x-python",
   "name": "python",
   "nbconvert_exporter": "python",
   "pygments_lexer": "ipython3",
   "version": "3.9.7"
  }
 },
 "nbformat": 4,
 "nbformat_minor": 5
}
